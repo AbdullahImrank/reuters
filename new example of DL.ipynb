{
 "cells": [
  {
   "cell_type": "code",
   "execution_count": 3,
   "metadata": {},
   "outputs": [],
   "source": [
    "from keras.datasets import reuters"
   ]
  },
  {
   "cell_type": "code",
   "execution_count": 4,
   "metadata": {},
   "outputs": [
    {
     "name": "stdout",
     "output_type": "stream",
     "text": [
      "Downloading data from https://s3.amazonaws.com/text-datasets/reuters.npz\n",
      "2113536/2110848 [==============================] - 2s 1us/step\n"
     ]
    }
   ],
   "source": [
    "(train_data, train_labels), (test_data, test_labels) = reuters.load_data(\n",
    "num_words=10000)"
   ]
  },
  {
   "cell_type": "code",
   "execution_count": 5,
   "metadata": {},
   "outputs": [
    {
     "data": {
      "text/plain": [
       "8982"
      ]
     },
     "execution_count": 5,
     "metadata": {},
     "output_type": "execute_result"
    }
   ],
   "source": [
    "len(train_data)"
   ]
  },
  {
   "cell_type": "code",
   "execution_count": 7,
   "metadata": {},
   "outputs": [
    {
     "data": {
      "text/plain": [
       "2246"
      ]
     },
     "execution_count": 7,
     "metadata": {},
     "output_type": "execute_result"
    }
   ],
   "source": [
    "len(test_labels)"
   ]
  },
  {
   "cell_type": "code",
   "execution_count": 9,
   "metadata": {},
   "outputs": [
    {
     "data": {
      "text/plain": [
       "[1,\n",
       " 2,\n",
       " 2,\n",
       " 8,\n",
       " 43,\n",
       " 10,\n",
       " 447,\n",
       " 5,\n",
       " 25,\n",
       " 207,\n",
       " 270,\n",
       " 5,\n",
       " 3095,\n",
       " 111,\n",
       " 16,\n",
       " 369,\n",
       " 186,\n",
       " 90,\n",
       " 67,\n",
       " 7,\n",
       " 89,\n",
       " 5,\n",
       " 19,\n",
       " 102,\n",
       " 6,\n",
       " 19,\n",
       " 124,\n",
       " 15,\n",
       " 90,\n",
       " 67,\n",
       " 84,\n",
       " 22,\n",
       " 482,\n",
       " 26,\n",
       " 7,\n",
       " 48,\n",
       " 4,\n",
       " 49,\n",
       " 8,\n",
       " 864,\n",
       " 39,\n",
       " 209,\n",
       " 154,\n",
       " 6,\n",
       " 151,\n",
       " 6,\n",
       " 83,\n",
       " 11,\n",
       " 15,\n",
       " 22,\n",
       " 155,\n",
       " 11,\n",
       " 15,\n",
       " 7,\n",
       " 48,\n",
       " 9,\n",
       " 4579,\n",
       " 1005,\n",
       " 504,\n",
       " 6,\n",
       " 258,\n",
       " 6,\n",
       " 272,\n",
       " 11,\n",
       " 15,\n",
       " 22,\n",
       " 134,\n",
       " 44,\n",
       " 11,\n",
       " 15,\n",
       " 16,\n",
       " 8,\n",
       " 197,\n",
       " 1245,\n",
       " 90,\n",
       " 67,\n",
       " 52,\n",
       " 29,\n",
       " 209,\n",
       " 30,\n",
       " 32,\n",
       " 132,\n",
       " 6,\n",
       " 109,\n",
       " 15,\n",
       " 17,\n",
       " 12]"
      ]
     },
     "execution_count": 9,
     "metadata": {},
     "output_type": "execute_result"
    }
   ],
   "source": [
    "train_data[0]"
   ]
  },
  {
   "cell_type": "code",
   "execution_count": 21,
   "metadata": {},
   "outputs": [],
   "source": [
    "word_index = reuters.get_word_index()\n",
    "reverse_word_index = dict([(value, key) for (key, value) in word_index.items()])\n",
    "decoded_newswire = ' '.join([reverse_word_index.get(i - 3, '?') for i in\n",
    "train_data[0]])"
   ]
  },
  {
   "cell_type": "code",
   "execution_count": 22,
   "metadata": {},
   "outputs": [
    {
     "data": {
      "text/plain": [
       "'? ? ? said as a result of its december acquisition of space co it expects earnings per share in 1987 of 1 15 to 1 30 dlrs per share up from 70 cts in 1986 the company said pretax net should rise to nine to 10 mln dlrs from six mln dlrs in 1986 and rental operation revenues to 19 to 22 mln dlrs from 12 5 mln dlrs it said cash flow per share this year should be 2 50 to three dlrs reuter 3'"
      ]
     },
     "execution_count": 22,
     "metadata": {},
     "output_type": "execute_result"
    }
   ],
   "source": [
    "decoded_newswire"
   ]
  },
  {
   "cell_type": "code",
   "execution_count": 26,
   "metadata": {},
   "outputs": [],
   "source": [
    "import numpy as np\n",
    "def vectorize_sequences(sequences, dimension=10000):\n",
    "    results = np.zeros((len(sequences), dimension))\n",
    "    for i, sequence in enumerate(sequences):\n",
    "        results[i, sequence] = 1.\n",
    "    return results"
   ]
  },
  {
   "cell_type": "code",
   "execution_count": 27,
   "metadata": {},
   "outputs": [],
   "source": [
    "x_train = vectorize_sequences(train_data)\n",
    "x_test = vectorize_sequences(test_data)"
   ]
  },
  {
   "cell_type": "code",
   "execution_count": 29,
   "metadata": {},
   "outputs": [],
   "source": [
    "def to_one_hot(labels, dimension=46):\n",
    "    results = np.zeros((len(labels), dimension))\n",
    "    for i, label in enumerate(labels):\n",
    "        results[i, label] = 1.\n",
    "    return results\n",
    "one_hot_train_labels = to_one_hot(train_labels)\n",
    "one_hot_test_labels = to_one_hot(test_labels)"
   ]
  },
  {
   "cell_type": "code",
   "execution_count": 49,
   "metadata": {},
   "outputs": [],
   "source": [
    "from keras import models\n",
    "from keras import layers\n",
    "model = models.Sequential()\n",
    "model.add(layers.Dense(554, activation='relu', input_shape=(10000,)))\n",
    "model.add(layers.Dense(270, activation='relu'))\n",
    "model.add(layers.Dense(120, activation='relu'))\n",
    "model.add(layers.Dense(46, activation='softmax'))\n"
   ]
  },
  {
   "cell_type": "code",
   "execution_count": 50,
   "metadata": {},
   "outputs": [],
   "source": [
    "model.compile(optimizer='rmsprop',\n",
    "loss='categorical_crossentropy',\n",
    "metrics=['accuracy'])"
   ]
  },
  {
   "cell_type": "code",
   "execution_count": 51,
   "metadata": {},
   "outputs": [],
   "source": [
    "x_val = x_train[:1000]\n",
    "partial_x_train = x_train[1000:]\n",
    "y_val = one_hot_train_labels[:1000]\n",
    "partial_y_train = one_hot_train_labels[1000:]"
   ]
  },
  {
   "cell_type": "code",
   "execution_count": 52,
   "metadata": {},
   "outputs": [
    {
     "name": "stdout",
     "output_type": "stream",
     "text": [
      "Train on 7982 samples, validate on 1000 samples\n",
      "Epoch 1/20\n",
      "7982/7982 [==============================] - 5s 618us/step - loss: 1.9949 - acc: 0.5378 - val_loss: 1.2849 - val_acc: 0.6990\n",
      "Epoch 2/20\n",
      "7982/7982 [==============================] - 4s 471us/step - loss: 0.9769 - acc: 0.7776 - val_loss: 1.0375 - val_acc: 0.7860\n",
      "Epoch 3/20\n",
      "7982/7982 [==============================] - 4s 465us/step - loss: 0.6198 - acc: 0.8527 - val_loss: 0.9761 - val_acc: 0.7900\n",
      "Epoch 4/20\n",
      "7982/7982 [==============================] - 4s 468us/step - loss: 0.3997 - acc: 0.9055 - val_loss: 0.9364 - val_acc: 0.7940\n",
      "Epoch 5/20\n",
      "7982/7982 [==============================] - 4s 460us/step - loss: 0.2967 - acc: 0.9311 - val_loss: 0.8647 - val_acc: 0.8120\n",
      "Epoch 6/20\n",
      "7982/7982 [==============================] - 4s 466us/step - loss: 0.1802 - acc: 0.9503 - val_loss: 1.0045 - val_acc: 0.8000\n",
      "Epoch 7/20\n",
      "7982/7982 [==============================] - 4s 460us/step - loss: 0.1650 - acc: 0.9538 - val_loss: 1.0266 - val_acc: 0.7830\n",
      "Epoch 8/20\n",
      "7982/7982 [==============================] - 4s 461us/step - loss: 0.1620 - acc: 0.9493 - val_loss: 1.0150 - val_acc: 0.7910\n",
      "Epoch 9/20\n",
      "7982/7982 [==============================] - 4s 468us/step - loss: 0.1249 - acc: 0.9535 - val_loss: 0.9908 - val_acc: 0.8130\n",
      "Epoch 10/20\n",
      "7982/7982 [==============================] - 4s 461us/step - loss: 0.1218 - acc: 0.9560 - val_loss: 1.0048 - val_acc: 0.8190\n",
      "Epoch 11/20\n",
      "7982/7982 [==============================] - 4s 462us/step - loss: 0.1165 - acc: 0.9540 - val_loss: 1.0219 - val_acc: 0.8160\n",
      "Epoch 12/20\n",
      "7982/7982 [==============================] - 4s 462us/step - loss: 0.1079 - acc: 0.9568 - val_loss: 1.1214 - val_acc: 0.8040\n",
      "Epoch 13/20\n",
      "7982/7982 [==============================] - 4s 470us/step - loss: 0.1026 - acc: 0.9567 - val_loss: 1.1771 - val_acc: 0.8030\n",
      "Epoch 14/20\n",
      "7982/7982 [==============================] - 4s 467us/step - loss: 0.0934 - acc: 0.9585 - val_loss: 1.2178 - val_acc: 0.7890\n",
      "Epoch 15/20\n",
      "7982/7982 [==============================] - 4s 467us/step - loss: 0.0891 - acc: 0.9582 - val_loss: 1.1819 - val_acc: 0.8130\n",
      "Epoch 16/20\n",
      "7982/7982 [==============================] - 4s 458us/step - loss: 0.0881 - acc: 0.9585 - val_loss: 1.3118 - val_acc: 0.8020\n",
      "Epoch 17/20\n",
      "7982/7982 [==============================] - 4s 468us/step - loss: 0.0838 - acc: 0.9578 - val_loss: 1.2249 - val_acc: 0.8040\n",
      "Epoch 18/20\n",
      "7982/7982 [==============================] - 4s 478us/step - loss: 0.0816 - acc: 0.9580 - val_loss: 1.3124 - val_acc: 0.7920\n",
      "Epoch 19/20\n",
      "7982/7982 [==============================] - 4s 461us/step - loss: 0.0786 - acc: 0.9569 - val_loss: 1.4041 - val_acc: 0.7940\n",
      "Epoch 20/20\n",
      "7982/7982 [==============================] - 4s 469us/step - loss: 0.0753 - acc: 0.9582 - val_loss: 1.4678 - val_acc: 0.7940\n"
     ]
    }
   ],
   "source": [
    "history = model.fit(partial_x_train,\n",
    "partial_y_train,\n",
    "epochs=20,\n",
    "batch_size=512,\n",
    "validation_data=(x_val, y_val))"
   ]
  },
  {
   "cell_type": "code",
   "execution_count": 54,
   "metadata": {},
   "outputs": [
    {
     "name": "stdout",
     "output_type": "stream",
     "text": [
      "Train on 7982 samples, validate on 1000 samples\n",
      "Epoch 1/11\n",
      "7982/7982 [==============================] - 3s 349us/step - loss: 2.7846 - acc: 0.5350 - val_loss: 1.8213 - val_acc: 0.6370\n",
      "Epoch 2/11\n",
      "7982/7982 [==============================] - 2s 236us/step - loss: 1.4793 - acc: 0.7097 - val_loss: 1.3082 - val_acc: 0.7070\n",
      "Epoch 3/11\n",
      "7982/7982 [==============================] - 2s 234us/step - loss: 1.0751 - acc: 0.7690 - val_loss: 1.1325 - val_acc: 0.7480\n",
      "Epoch 4/11\n",
      "7982/7982 [==============================] - 2s 233us/step - loss: 0.8437 - acc: 0.8207 - val_loss: 1.0564 - val_acc: 0.7770\n",
      "Epoch 5/11\n",
      "7982/7982 [==============================] - 2s 233us/step - loss: 0.6801 - acc: 0.8584 - val_loss: 0.9830 - val_acc: 0.8030\n",
      "Epoch 6/11\n",
      "7982/7982 [==============================] - 2s 233us/step - loss: 0.5466 - acc: 0.8890 - val_loss: 0.9231 - val_acc: 0.8070\n",
      "Epoch 7/11\n",
      "7982/7982 [==============================] - 2s 232us/step - loss: 0.4402 - acc: 0.9062 - val_loss: 0.9064 - val_acc: 0.8120\n",
      "Epoch 8/11\n",
      "7982/7982 [==============================] - 2s 233us/step - loss: 0.3613 - acc: 0.9250 - val_loss: 0.8903 - val_acc: 0.8120\n",
      "Epoch 9/11\n",
      "7982/7982 [==============================] - 2s 232us/step - loss: 0.2959 - acc: 0.9349 - val_loss: 0.9072 - val_acc: 0.8110\n",
      "Epoch 10/11\n",
      "7982/7982 [==============================] - 2s 232us/step - loss: 0.2531 - acc: 0.9422 - val_loss: 0.9373 - val_acc: 0.8140\n",
      "Epoch 11/11\n",
      "7982/7982 [==============================] - 2s 235us/step - loss: 0.2171 - acc: 0.9475 - val_loss: 0.9169 - val_acc: 0.8160\n",
      "2246/2246 [==============================] - 1s 289us/step\n"
     ]
    }
   ],
   "source": [
    "model = models.Sequential()\n",
    "model.add(layers.Dense(64, activation='relu', input_shape=(10000,)))\n",
    "model.add(layers.Dense(64, activation='relu'))\n",
    "model.add(layers.Dense(46, activation='softmax'))\n",
    "model.compile(optimizer='rmsprop',\n",
    "loss='categorical_crossentropy',\n",
    "metrics=['accuracy'])\n",
    "model.fit(partial_x_train,\n",
    "partial_y_train,\n",
    "epochs=11,\n",
    "batch_size=512,\n",
    "validation_data=(x_val, y_val))\n",
    "results = model.evaluate(x_test, one_hot_test_labels)"
   ]
  },
  {
   "cell_type": "code",
   "execution_count": null,
   "metadata": {},
   "outputs": [],
   "source": []
  }
 ],
 "metadata": {
  "kernelspec": {
   "display_name": "Python 3",
   "language": "python",
   "name": "python3"
  },
  "language_info": {
   "codemirror_mode": {
    "name": "ipython",
    "version": 3
   },
   "file_extension": ".py",
   "mimetype": "text/x-python",
   "name": "python",
   "nbconvert_exporter": "python",
   "pygments_lexer": "ipython3",
   "version": "3.7.3"
  }
 },
 "nbformat": 4,
 "nbformat_minor": 2
}
